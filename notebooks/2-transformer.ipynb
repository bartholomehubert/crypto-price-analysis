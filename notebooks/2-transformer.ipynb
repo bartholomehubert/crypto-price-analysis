{
 "cells": [
  {
   "cell_type": "code",
   "execution_count": 60,
   "metadata": {},
   "outputs": [
    {
     "name": "stdout",
     "output_type": "stream",
     "text": [
      "The autoreload extension is already loaded. To reload it, use:\n",
      "  %reload_ext autoreload\n"
     ]
    }
   ],
   "source": [
    "%load_ext autoreload\n",
    "%autoreload 2\n",
    "\n",
    "import os\n",
    "import sys\n",
    "from pathlib import Path\n",
    "import random\n",
    "\n",
    "import pandas as pd\n",
    "import numpy as np\n",
    "import torch\n",
    "\n",
    "sys.path.append(os.path.abspath('..'))\n",
    "\n",
    "device = torch.device(\"cuda:0\" if torch.cuda.is_available() else \"cpu\")\n",
    "\n",
    "seed = 123456\n",
    "\n",
    "random.seed(seed)\n",
    "np.random.seed(seed)\n",
    "torch.manual_seed(seed)\n",
    "torch.cuda.manual_seed(seed)\n",
    "torch.cuda.manual_seed_all(seed)"
   ]
  },
  {
   "cell_type": "code",
   "execution_count": 61,
   "metadata": {},
   "outputs": [],
   "source": [
    "sequence_length = 24\n",
    "batch_size = 32"
   ]
  },
  {
   "cell_type": "code",
   "execution_count": 62,
   "metadata": {},
   "outputs": [
    {
     "name": "stdout",
     "output_type": "stream",
     "text": [
      "Failed to dowload https://data.binance.vision/data/spot/monthly/klines/ETHUSDT/15m/ETHUSDT-15m-2024-07.zip\n"
     ]
    }
   ],
   "source": [
    "from crypto_price_analysis import BinanceDataset\n",
    "\n",
    "binance_dataset = BinanceDataset(Path(\"../data\"), \"ETHUSDT\", \"15m\", sequence_length + 1)\n",
    "\n",
    "binance_dataset.download_binance_dataset()\n",
    "data_chunks, mean, std = binance_dataset.preprocess_binance_dataset()"
   ]
  },
  {
   "cell_type": "code",
   "execution_count": 63,
   "metadata": {},
   "outputs": [],
   "source": [
    "from crypto_price_analysis.dataset import ChunkedSequenceDataset\n",
    "from torch.utils.data import DataLoader, SubsetRandomSampler\n",
    "\n",
    "def dataframe_to_tensor(dataframe: pd.DataFrame | pd.Series, torch_device=device):\n",
    "    return torch.Tensor(dataframe.values.astype(np.float32)).to(torch_device)\n",
    "\n",
    "dataset = ChunkedSequenceDataset(list(map(dataframe_to_tensor, data_chunks)), sequence_length)"
   ]
  },
  {
   "cell_type": "code",
   "execution_count": 64,
   "metadata": {},
   "outputs": [
    {
     "name": "stdout",
     "output_type": "stream",
     "text": [
      "231126 12164 672\n"
     ]
    }
   ],
   "source": [
    "dataset_size = len(dataset)\n",
    "testset_size = 4 * 24 * 7\n",
    "\n",
    "testset_X, testset_y = zip(*[dataset[i] for i in range(dataset_size - testset_size, dataset_size)])\n",
    "testset_X = torch.stack(testset_X)\n",
    "testset_y = torch.stack(testset_y)\n",
    "\n",
    "valset_size = int(0.05 * (dataset_size - testset_size))\n",
    "trainset_size = dataset_size - testset_size - valset_size\n",
    "\n",
    "indices = np.arange(dataset_size - testset_size, dtype=int)\n",
    "np.random.shuffle(indices)\n",
    "\n",
    "val_indices, train_indices = indices[:valset_size], indices[valset_size:]\n",
    "\n",
    "val_sampler = SubsetRandomSampler(val_indices.tolist())\n",
    "train_sampler = SubsetRandomSampler(train_indices.tolist())\n",
    "\n",
    "val_loader = DataLoader(dataset, batch_size=batch_size, sampler=val_sampler)\n",
    "train_loader = DataLoader(dataset, batch_size=batch_size, sampler=train_sampler)\n",
    "\n",
    "print(trainset_size, valset_size, testset_size)"
   ]
  },
  {
   "cell_type": "code",
   "execution_count": 65,
   "metadata": {},
   "outputs": [],
   "source": [
    "import math\n",
    "import torch.nn as nn\n",
    "\n",
    "class PositionalEncoding(nn.Module):\n",
    "    def __init__(self, d_model: int, dropout: float, max_len: int = 1000):\n",
    "        super(PositionalEncoding, self).__init__()\n",
    "        den = torch.exp(- torch.arange(0, d_model, 2)* math.log(10000) / d_model)\n",
    "        pos = torch.arange(0, max_len).reshape(max_len, 1)\n",
    "        pos_encoding = torch.zeros((max_len, d_model))\n",
    "        pos_encoding[:, 0::2] = torch.sin(pos * den)\n",
    "        pos_encoding[:, 1::2] = torch.cos(pos * den)\n",
    "\n",
    "        self.dropout = nn.Dropout(dropout)\n",
    "        self.register_buffer('pos_encoding', pos_encoding)\n",
    "\n",
    "    def forward(self, x: torch.Tensor):\n",
    "        return self.dropout(x + self.pos_encoding[:x.size(1), :])"
   ]
  },
  {
   "cell_type": "code",
   "execution_count": 66,
   "metadata": {},
   "outputs": [],
   "source": [
    "class ReturnsForecast(nn.Module):\n",
    "\n",
    "    def __init__(self, d_model, nhead, num_layers, dropout):\n",
    "        super(ReturnsForecast, self).__init__()\n",
    "        self.linear1 = nn.Linear(7, d_model)\n",
    "        self.positional_encoding = PositionalEncoding(d_model, dropout, 1000)\n",
    "        # self.register_buffer('causal_mask', causal_mask)\n",
    "        encoder_layer = nn.TransformerEncoderLayer(d_model=d_model, nhead=nhead, dropout=dropout, batch_first=True)\n",
    "        self.transformer_encoder = nn.TransformerEncoder(encoder_layer, num_layers=num_layers)\n",
    "        self.linear2 = nn.Linear(d_model, 1)\n",
    "\n",
    "    def forward(self, x):\n",
    "        x = self.linear1(x)\n",
    "        x = self.positional_encoding(x)\n",
    "        causal_mask = nn.Transformer.generate_square_subsequent_mask(x.size(1)).to(x.device)\n",
    "        x = self.transformer_encoder(x, mask=causal_mask, is_causal=True)\n",
    "        return self.linear2(x[:, -1, :])\n",
    "    "
   ]
  },
  {
   "cell_type": "code",
   "execution_count": 67,
   "metadata": {},
   "outputs": [],
   "source": [
    "retrain_model = True"
   ]
  },
  {
   "cell_type": "code",
   "execution_count": 68,
   "metadata": {},
   "outputs": [
    {
     "name": "stdout",
     "output_type": "stream",
     "text": [
      "epoch:    0 duration: 68.16s loss: 1.00235 val_loss: 1.01210\n",
      "epoch:    1 duration: 66.06s loss: 1.00038 val_loss: 1.01265\n",
      "epoch:    2 duration: 64.70s loss: 1.00072 val_loss: 1.01196\n",
      "epoch:    3 duration: 67.37s loss: 1.00064 val_loss: 1.01263\n",
      "epoch:    4 duration: 68.63s loss: 1.00048 val_loss: 1.02948\n",
      "epoch:    5 duration: 67.81s loss: 1.00050 val_loss: 1.01964\n",
      "epoch:    6 duration: 65.16s loss: 1.00013 val_loss: 1.01185\n",
      "epoch:    7 duration: 65.03s loss: 1.00028 val_loss: 1.01196\n",
      "epoch:    8 duration: 69.70s loss: 1.00001 val_loss: 1.01541\n",
      "epoch:    9 duration: 68.97s loss: 1.00017 val_loss: 1.01302\n",
      "epoch:   10 duration: 70.71s loss: 0.99989 val_loss: 1.01803\n",
      "epoch:   11 duration: 68.21s loss: 0.99995 val_loss: 1.01250\n",
      "epoch:   12 duration: 72.30s loss: 1.00022 val_loss: 1.01187\n",
      "epoch:   13 duration: 69.77s loss: 0.99998 val_loss: 1.01372\n",
      "epoch:   14 duration: 69.52s loss: 0.99998 val_loss: 1.02162\n",
      "epoch:   15 duration: 69.88s loss: 0.99948 val_loss: 1.01258\n",
      "epoch:   16 duration: 68.97s loss: 0.99986 val_loss: 1.01239\n",
      "epoch:   17 duration: 64.99s loss: 0.99945 val_loss: 1.01401\n",
      "epoch:   18 duration: 66.02s loss: 0.99978 val_loss: 1.01407\n",
      "epoch:   19 duration: 65.74s loss: 0.99969 val_loss: 1.01891\n",
      "epoch:   20 duration: 65.19s loss: 0.99931 val_loss: 1.01332\n",
      "epoch:   21 duration: 68.97s loss: 0.99930 val_loss: 1.01231\n",
      "epoch:   22 duration: 67.75s loss: 0.99933 val_loss: 1.02667\n",
      "epoch:   23 duration: 64.45s loss: 0.99917 val_loss: 1.01342\n",
      "epoch:   24 duration: 67.61s loss: 0.99927 val_loss: 1.01284\n",
      "epoch:   25 duration: 65.74s loss: 0.99899 val_loss: 1.01200\n",
      "epoch:   26 duration: 67.56s loss: 0.99911 val_loss: 1.01188\n",
      "epoch:   27 duration: 66.93s loss: 0.99876 val_loss: 1.01298\n",
      "epoch:   28 duration: 65.72s loss: 0.99872 val_loss: 1.01577\n",
      "epoch:   29 duration: 64.88s loss: 0.99886 val_loss: 1.01359\n",
      "epoch:   30 duration: 65.05s loss: 0.99885 val_loss: 1.03456\n",
      "epoch:   31 duration: 64.98s loss: 0.99869 val_loss: 1.01232\n",
      "epoch:   32 duration: 65.40s loss: 0.99872 val_loss: 1.02487\n",
      "epoch:   33 duration: 67.15s loss: 0.99878 val_loss: 1.01196\n",
      "epoch:   34 duration: 64.37s loss: 0.99884 val_loss: 1.01317\n",
      "epoch:   35 duration: 65.41s loss: 0.99876 val_loss: 1.01270\n",
      "epoch:   36 duration: 67.19s loss: 0.99879 val_loss: 1.01223\n",
      "epoch:   37 duration: 66.65s loss: 0.99860 val_loss: 1.01333\n",
      "epoch:   38 duration: 68.02s loss: 0.99849 val_loss: 1.01488\n",
      "epoch:   39 duration: 64.09s loss: 0.99841 val_loss: 1.01437\n",
      "epoch:   40 duration: 64.92s loss: 0.99840 val_loss: 1.01281\n",
      "epoch:   41 duration: 66.01s loss: 0.99840 val_loss: 1.01190\n",
      "epoch:   42 duration: 63.76s loss: 0.99838 val_loss: 1.01342\n",
      "epoch:   43 duration: 61.68s loss: 0.99815 val_loss: 1.01192\n",
      "epoch:   44 duration: 66.22s loss: 0.99831 val_loss: 1.01214\n",
      "epoch:   45 duration: 65.62s loss: 0.99831 val_loss: 1.01192\n",
      "epoch:   46 duration: 68.29s loss: 0.99813 val_loss: 1.01186\n",
      "epoch:   47 duration: 67.59s loss: 0.99803 val_loss: 1.05055\n",
      "epoch:   48 duration: 66.80s loss: 0.99829 val_loss: 1.01214\n",
      "epoch:   49 duration: 66.45s loss: 0.99809 val_loss: 1.01194\n",
      "epoch:   50 duration: 64.77s loss: 0.99824 val_loss: 1.01449\n",
      "epoch:   51 duration: 69.70s loss: 0.99812 val_loss: 1.01356\n",
      "epoch:   52 duration: 66.92s loss: 0.99792 val_loss: 1.01310\n",
      "epoch:   53 duration: 66.50s loss: 0.99793 val_loss: 1.01215\n",
      "epoch:   54 duration: 68.57s loss: 0.99809 val_loss: 1.01332\n",
      "epoch:   55 duration: 69.83s loss: 0.99775 val_loss: 1.01192\n",
      "epoch:   56 duration: 68.40s loss: 0.99791 val_loss: 1.01271\n",
      "epoch:   57 duration: 67.62s loss: 0.99778 val_loss: 1.01797\n",
      "epoch:   58 duration: 66.42s loss: 0.99782 val_loss: 1.01678\n",
      "epoch:   59 duration: 62.69s loss: 0.99782 val_loss: 1.01210\n",
      "epoch:   60 duration: 66.10s loss: 0.99777 val_loss: 1.01437\n",
      "epoch:   61 duration: 65.70s loss: 0.99764 val_loss: 1.01211\n",
      "epoch:   62 duration: 63.50s loss: 0.99772 val_loss: 1.01192\n",
      "epoch:   63 duration: 69.30s loss: 0.99776 val_loss: 1.02231\n",
      "epoch:   64 duration: 66.45s loss: 0.99773 val_loss: 1.01189\n",
      "epoch:   65 duration: 67.33s loss: 0.99765 val_loss: 1.01201\n",
      "epoch:   66 duration: 66.47s loss: 0.99760 val_loss: 1.01261\n",
      "epoch:   67 duration: 67.10s loss: 0.99770 val_loss: 1.01187\n",
      "epoch:   68 duration: 69.33s loss: 0.99761 val_loss: 1.01303\n",
      "epoch:   69 duration: 69.44s loss: 0.99751 val_loss: 1.01863\n",
      "epoch:   70 duration: 67.25s loss: 0.99762 val_loss: 1.01193\n",
      "epoch:   71 duration: 68.13s loss: 0.99743 val_loss: 1.01187\n",
      "epoch:   72 duration: 63.60s loss: 0.99749 val_loss: 1.01245\n",
      "epoch:   73 duration: 64.65s loss: 0.99744 val_loss: 1.01189\n",
      "epoch:   74 duration: 65.37s loss: 0.99741 val_loss: 1.01220\n",
      "epoch:   75 duration: 67.20s loss: 0.99747 val_loss: 1.01186\n",
      "epoch:   76 duration: 67.48s loss: 0.99752 val_loss: 1.01195\n",
      "epoch:   77 duration: 67.52s loss: 0.99738 val_loss: 1.01201\n",
      "epoch:   78 duration: 67.54s loss: 0.99733 val_loss: 1.01334\n",
      "epoch:   79 duration: 68.29s loss: 0.99740 val_loss: 1.01193\n",
      "epoch:   80 duration: 67.59s loss: 0.99735 val_loss: 1.01618\n",
      "epoch:   81 duration: 66.25s loss: 0.99732 val_loss: 1.01330\n",
      "epoch:   82 duration: 68.41s loss: 0.99739 val_loss: 1.01475\n",
      "epoch:   83 duration: 67.32s loss: 0.99730 val_loss: 1.01203\n",
      "epoch:   84 duration: 67.07s loss: 0.99722 val_loss: 1.01189\n",
      "epoch:   85 duration: 66.56s loss: 0.99730 val_loss: 1.01367\n",
      "epoch:   86 duration: 64.94s loss: 0.99716 val_loss: 1.01799\n",
      "epoch:   87 duration: 67.33s loss: 0.99725 val_loss: 1.01215\n",
      "epoch:   88 duration: 67.43s loss: 0.99717 val_loss: 1.01218\n",
      "epoch:   89 duration: 68.84s loss: 0.99721 val_loss: 1.01244\n",
      "epoch:   90 duration: 68.37s loss: 0.99721 val_loss: 1.01186\n",
      "epoch:   91 duration: 66.79s loss: 0.99721 val_loss: 1.01220\n",
      "epoch:   92 duration: 66.94s loss: 0.99714 val_loss: 1.01418\n",
      "epoch:   93 duration: 65.95s loss: 0.99725 val_loss: 1.01274\n",
      "epoch:   94 duration: 65.58s loss: 0.99708 val_loss: 1.01524\n",
      "epoch:   95 duration: 66.43s loss: 0.99717 val_loss: 1.01402\n",
      "epoch:   96 duration: 67.31s loss: 0.99712 val_loss: 1.01291\n",
      "epoch:   97 duration: 67.01s loss: 0.99718 val_loss: 1.01271\n",
      "epoch:   98 duration: 65.27s loss: 0.99710 val_loss: 1.01252\n",
      "epoch:   99 duration: 64.23s loss: 0.99716 val_loss: 1.01186\n"
     ]
    }
   ],
   "source": [
    "from crypto_price_analysis.train import train_model\n",
    "\n",
    "model = ReturnsForecast(d_model=32, nhead=4, num_layers=4, dropout=0.2).to(device)\n",
    "optimizer = torch.optim.Adam(model.parameters(), lr=0.02)\n",
    "scheduler = torch.optim.lr_scheduler.ExponentialLR(optimizer, 0.98)\n",
    "loss_function = nn.MSELoss()\n",
    "\n",
    "model_path = '../model/transformer-model.h5'\n",
    "if retrain_model or not Path(model_path).exists():\n",
    "    train_loss_history, val_loss_history = train_model(model, train_loader, val_loader, optimizer, loss_function, 100, scheduler)\n",
    "    torch.save(model.state_dict(), model_path)\n",
    "else:\n",
    "    model.load_state_dict(torch.load(model_path, weights_only=True))"
   ]
  },
  {
   "cell_type": "code",
   "execution_count": 69,
   "metadata": {},
   "outputs": [
    {
     "name": "stdout",
     "output_type": "stream",
     "text": [
      "accuracy: 0.5014191393439077 mae: 0.003037606133148074\n",
      "[115235 115891]\n"
     ]
    }
   ],
   "source": [
    "import typing\n",
    "import collections.abc\n",
    "\n",
    "model.eval()\n",
    "counts = np.array([0, 0])\n",
    "running_loss = 0\n",
    "\n",
    "with torch.no_grad():\n",
    "    for x, y in train_loader:\n",
    "        y_pred = model(x)\n",
    "\n",
    "        y_pred_untransformed = torch.expm1(y_pred * std.iloc[3] + mean.iloc[3])\n",
    "        y_untransformed = torch.expm1(y * std.iloc[3] + mean.iloc[3])\n",
    "\n",
    "        running_loss += nn.functional.l1_loss(y_pred_untransformed, y_untransformed) * x.size(0)\n",
    "\n",
    "        score = np.where((y_pred_untransformed * y_untransformed).cpu() > 0, 1, 0)\n",
    "        unique, count = np.unique(score, return_counts=True)\n",
    "        counts[unique] += count\n",
    "\n",
    "print(f'accuracy: {counts[1] / (counts[0] + counts[1])} mae: {running_loss / len(typing.cast(collections.abc.Sized, train_loader.sampler))}') \n",
    "print(counts)"
   ]
  },
  {
   "cell_type": "code",
   "execution_count": 70,
   "metadata": {},
   "outputs": [
    {
     "name": "stdout",
     "output_type": "stream",
     "text": [
      "accuracy: 0.47470238095238093 mae: 0.0037904568016529083\n",
      "[353 319]\n"
     ]
    }
   ],
   "source": [
    "model.eval()\n",
    "with torch.no_grad():\n",
    "    y_pred = model(testset_X)\n",
    "\n",
    "    y_pred_untransformed = torch.expm1(y_pred * std.iloc[3] + mean.iloc[3])\n",
    "    y_untransformed = torch.expm1(testset_y * std.iloc[3] + mean.iloc[3])\n",
    "\n",
    "    loss = nn.functional.l1_loss(y_pred_untransformed, y_untransformed)\n",
    "\n",
    "score = np.where((y_pred_untransformed * y_untransformed).cpu() > 0, 1, 0)\n",
    "unique, counts = np.unique(score, return_counts=True)\n",
    "\n",
    "print(f'accuracy: {counts[1] / (counts[0] + counts[1])} mae: {loss}') \n",
    "print(counts)"
   ]
  },
  {
   "cell_type": "code",
   "execution_count": 71,
   "metadata": {},
   "outputs": [
    {
     "data": {
      "text/html": [
       "<div>\n",
       "<style scoped>\n",
       "    .dataframe tbody tr th:only-of-type {\n",
       "        vertical-align: middle;\n",
       "    }\n",
       "\n",
       "    .dataframe tbody tr th {\n",
       "        vertical-align: top;\n",
       "    }\n",
       "\n",
       "    .dataframe thead th {\n",
       "        text-align: right;\n",
       "    }\n",
       "</style>\n",
       "<table border=\"1\" class=\"dataframe\">\n",
       "  <thead>\n",
       "    <tr style=\"text-align: right;\">\n",
       "      <th></th>\n",
       "      <th>close</th>\n",
       "    </tr>\n",
       "    <tr>\n",
       "      <th>open_time</th>\n",
       "      <th></th>\n",
       "    </tr>\n",
       "  </thead>\n",
       "  <tbody>\n",
       "    <tr>\n",
       "      <th>2024-07-30 00:00:00</th>\n",
       "      <td>-0.001706</td>\n",
       "    </tr>\n",
       "    <tr>\n",
       "      <th>2024-07-30 00:15:00</th>\n",
       "      <td>-0.001570</td>\n",
       "    </tr>\n",
       "    <tr>\n",
       "      <th>2024-07-30 00:30:00</th>\n",
       "      <td>0.003387</td>\n",
       "    </tr>\n",
       "    <tr>\n",
       "      <th>2024-07-30 00:45:00</th>\n",
       "      <td>0.003104</td>\n",
       "    </tr>\n",
       "    <tr>\n",
       "      <th>2024-07-30 01:00:00</th>\n",
       "      <td>0.001896</td>\n",
       "    </tr>\n",
       "    <tr>\n",
       "      <th>...</th>\n",
       "      <td>...</td>\n",
       "    </tr>\n",
       "    <tr>\n",
       "      <th>2024-08-05 22:45:00</th>\n",
       "      <td>0.000910</td>\n",
       "    </tr>\n",
       "    <tr>\n",
       "      <th>2024-08-05 23:00:00</th>\n",
       "      <td>0.001847</td>\n",
       "    </tr>\n",
       "    <tr>\n",
       "      <th>2024-08-05 23:15:00</th>\n",
       "      <td>-0.005998</td>\n",
       "    </tr>\n",
       "    <tr>\n",
       "      <th>2024-08-05 23:30:00</th>\n",
       "      <td>-0.002305</td>\n",
       "    </tr>\n",
       "    <tr>\n",
       "      <th>2024-08-05 23:45:00</th>\n",
       "      <td>-0.007124</td>\n",
       "    </tr>\n",
       "  </tbody>\n",
       "</table>\n",
       "<p>672 rows × 1 columns</p>\n",
       "</div>"
      ],
      "text/plain": [
       "                        close\n",
       "open_time                    \n",
       "2024-07-30 00:00:00 -0.001706\n",
       "2024-07-30 00:15:00 -0.001570\n",
       "2024-07-30 00:30:00  0.003387\n",
       "2024-07-30 00:45:00  0.003104\n",
       "2024-07-30 01:00:00  0.001896\n",
       "...                       ...\n",
       "2024-08-05 22:45:00  0.000910\n",
       "2024-08-05 23:00:00  0.001847\n",
       "2024-08-05 23:15:00 -0.005998\n",
       "2024-08-05 23:30:00 -0.002305\n",
       "2024-08-05 23:45:00 -0.007124\n",
       "\n",
       "[672 rows x 1 columns]"
      ]
     },
     "execution_count": 71,
     "metadata": {},
     "output_type": "execute_result"
    }
   ],
   "source": [
    "backtest = data_chunks[-1][['close']][-testset_size:] \n",
    "backtest['close'] = np.expm1(backtest['close'] * std.iloc[3] + mean.iloc[3])\n",
    "backtest"
   ]
  },
  {
   "cell_type": "code",
   "execution_count": 72,
   "metadata": {},
   "outputs": [],
   "source": [
    "with torch.no_grad():\n",
    "    backtest['pred'] = model(testset_X).cpu()\n",
    "backtest['pred'] = np.expm1(backtest['pred'] * std.iloc[3] + mean.iloc[3])"
   ]
  },
  {
   "cell_type": "code",
   "execution_count": 73,
   "metadata": {},
   "outputs": [
    {
     "data": {
      "text/html": [
       "<div>\n",
       "<style scoped>\n",
       "    .dataframe tbody tr th:only-of-type {\n",
       "        vertical-align: middle;\n",
       "    }\n",
       "\n",
       "    .dataframe tbody tr th {\n",
       "        vertical-align: top;\n",
       "    }\n",
       "\n",
       "    .dataframe thead th {\n",
       "        text-align: right;\n",
       "    }\n",
       "</style>\n",
       "<table border=\"1\" class=\"dataframe\">\n",
       "  <thead>\n",
       "    <tr style=\"text-align: right;\">\n",
       "      <th></th>\n",
       "      <th>close</th>\n",
       "      <th>pred</th>\n",
       "    </tr>\n",
       "    <tr>\n",
       "      <th>open_time</th>\n",
       "      <th></th>\n",
       "      <th></th>\n",
       "    </tr>\n",
       "  </thead>\n",
       "  <tbody>\n",
       "    <tr>\n",
       "      <th>2024-07-30 00:00:00</th>\n",
       "      <td>-0.001706</td>\n",
       "      <td>0.000079</td>\n",
       "    </tr>\n",
       "    <tr>\n",
       "      <th>2024-07-30 00:15:00</th>\n",
       "      <td>-0.001570</td>\n",
       "      <td>0.000079</td>\n",
       "    </tr>\n",
       "    <tr>\n",
       "      <th>2024-07-30 00:30:00</th>\n",
       "      <td>0.003387</td>\n",
       "      <td>0.000079</td>\n",
       "    </tr>\n",
       "    <tr>\n",
       "      <th>2024-07-30 00:45:00</th>\n",
       "      <td>0.003104</td>\n",
       "      <td>0.000079</td>\n",
       "    </tr>\n",
       "    <tr>\n",
       "      <th>2024-07-30 01:00:00</th>\n",
       "      <td>0.001896</td>\n",
       "      <td>0.000079</td>\n",
       "    </tr>\n",
       "    <tr>\n",
       "      <th>...</th>\n",
       "      <td>...</td>\n",
       "      <td>...</td>\n",
       "    </tr>\n",
       "    <tr>\n",
       "      <th>2024-08-05 22:45:00</th>\n",
       "      <td>0.000910</td>\n",
       "      <td>0.000079</td>\n",
       "    </tr>\n",
       "    <tr>\n",
       "      <th>2024-08-05 23:00:00</th>\n",
       "      <td>0.001847</td>\n",
       "      <td>0.000079</td>\n",
       "    </tr>\n",
       "    <tr>\n",
       "      <th>2024-08-05 23:15:00</th>\n",
       "      <td>-0.005998</td>\n",
       "      <td>0.000079</td>\n",
       "    </tr>\n",
       "    <tr>\n",
       "      <th>2024-08-05 23:30:00</th>\n",
       "      <td>-0.002305</td>\n",
       "      <td>0.000079</td>\n",
       "    </tr>\n",
       "    <tr>\n",
       "      <th>2024-08-05 23:45:00</th>\n",
       "      <td>-0.007124</td>\n",
       "      <td>0.000079</td>\n",
       "    </tr>\n",
       "  </tbody>\n",
       "</table>\n",
       "<p>672 rows × 2 columns</p>\n",
       "</div>"
      ],
      "text/plain": [
       "                        close      pred\n",
       "open_time                              \n",
       "2024-07-30 00:00:00 -0.001706  0.000079\n",
       "2024-07-30 00:15:00 -0.001570  0.000079\n",
       "2024-07-30 00:30:00  0.003387  0.000079\n",
       "2024-07-30 00:45:00  0.003104  0.000079\n",
       "2024-07-30 01:00:00  0.001896  0.000079\n",
       "...                       ...       ...\n",
       "2024-08-05 22:45:00  0.000910  0.000079\n",
       "2024-08-05 23:00:00  0.001847  0.000079\n",
       "2024-08-05 23:15:00 -0.005998  0.000079\n",
       "2024-08-05 23:30:00 -0.002305  0.000079\n",
       "2024-08-05 23:45:00 -0.007124  0.000079\n",
       "\n",
       "[672 rows x 2 columns]"
      ]
     },
     "execution_count": 73,
     "metadata": {},
     "output_type": "execute_result"
    }
   ],
   "source": [
    "backtest"
   ]
  },
  {
   "cell_type": "code",
   "execution_count": 74,
   "metadata": {},
   "outputs": [],
   "source": [
    "backtest['pred_sign'] = np.sign(backtest['pred'])\n",
    "backtest['returns'] = backtest['pred_sign'] * backtest['close']"
   ]
  },
  {
   "cell_type": "code",
   "execution_count": 75,
   "metadata": {},
   "outputs": [
    {
     "data": {
      "text/plain": [
       "0.7293061977417802"
      ]
     },
     "execution_count": 75,
     "metadata": {},
     "output_type": "execute_result"
    },
    {
     "data": {
      "image/png": "[encoded data removed]",
      "text/plain": [
       "<Figure size 640x480 with 1 Axes>"
      ]
     },
     "metadata": {},
     "output_type": "display_data"
    }
   ],
   "source": [
    "(backtest['returns'] + 1).cumprod().plot()\n",
    "(backtest['returns'] + 1).prod()"
   ]
  },
  {
   "cell_type": "code",
   "execution_count": 76,
   "metadata": {},
   "outputs": [
    {
     "data": {
      "text/plain": [
       "0.7293061977417802"
      ]
     },
     "execution_count": 76,
     "metadata": {},
     "output_type": "execute_result"
    },
    {
     "data": {
      "image/png": "[encoded data removed]",
      "text/plain": [
       "<Figure size 640x480 with 1 Axes>"
      ]
     },
     "metadata": {},
     "output_type": "display_data"
    }
   ],
   "source": [
    "(backtest['close'] + 1).cumprod().plot()\n",
    "(backtest['close'] + 1).prod()"
   ]
  }
 ],
 "metadata": {
  "kernelspec": {
   "display_name": "pytorch-env",
   "language": "python",
   "name": "python3"
  },
  "language_info": {
   "codemirror_mode": {
    "name": "ipython",
    "version": 3
   },
   "file_extension": ".py",
   "mimetype": "text/x-python",
   "name": "python",
   "nbconvert_exporter": "python",
   "pygments_lexer": "ipython3",
   "version": "3.12.4"
  }
 },
 "nbformat": 4,
 "nbformat_minor": 2
}
