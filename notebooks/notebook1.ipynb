{
 "cells": [
  {
   "cell_type": "code",
   "execution_count": 30,
   "metadata": {},
   "outputs": [
    {
     "name": "stdout",
     "output_type": "stream",
     "text": [
      "The autoreload extension is already loaded. To reload it, use:\n",
      "  %reload_ext autoreload\n"
     ]
    }
   ],
   "source": [
    "%load_ext autoreload\n",
    "%autoreload 2\n",
    "\n",
    "import pandas as pd\n",
    "import numpy as np\n",
    "\n",
    "import os\n",
    "import sys\n",
    "from pathlib import Path\n",
    "\n",
    "sys.path.append(os.path.abspath('..'))\n",
    "\n",
    "import torch\n",
    "\n",
    "device = torch.device(\"cuda:0\" if torch.cuda.is_available() else \"cpu\")"
   ]
  },
  {
   "cell_type": "code",
   "execution_count": 31,
   "metadata": {},
   "outputs": [],
   "source": [
    "from crypto_price_analysis import BinanceDataset\n",
    "\n",
    "binance_dataset = BinanceDataset(Path(\"../data\"), \"ETHUSDT\", \"1m\", 45)\n",
    "\n",
    "binance_dataset.download_binance_dataset()\n",
    "data_chunks, mean, std = binance_dataset.preprocess_binance_dataset()"
   ]
  },
  {
   "cell_type": "code",
   "execution_count": 32,
   "metadata": {},
   "outputs": [],
   "source": [
    "from crypto_price_analysis.dataset import ChunkedSequenceDataset\n",
    "from torch.utils.data import DataLoader, SubsetRandomSampler\n",
    "\n",
    "sequence_length = 45\n",
    "batch_size = 32\n",
    "validation_split = 0.05\n",
    "\n",
    "dataset = ChunkedSequenceDataset(list(map(lambda chunk: torch.Tensor(chunk.values.astype(np.float32)).to(device), data_chunks)), sequence_length)\n",
    "\n",
    "dataset_size = len(dataset)\n",
    "indices = np.arange(dataset_size, dtype=int)\n",
    "\n",
    "split = int(validation_split * dataset_size)\n",
    "np.random.shuffle(indices)\n",
    "train_indices, val_indices = indices[split:], indices[:split]\n",
    "\n",
    "\n",
    "train_sampler = SubsetRandomSampler(list(train_indices))\n",
    "val_sampler = SubsetRandomSampler(list(val_indices))\n",
    "\n",
    "\n",
    "train_loader = DataLoader(dataset, batch_size=batch_size, sampler=train_sampler)\n",
    "val_loader = DataLoader(dataset, batch_size=batch_size, sampler=val_sampler)"
   ]
  },
  {
   "cell_type": "code",
   "execution_count": 33,
   "metadata": {},
   "outputs": [],
   "source": [
    "import torch.nn as nn\n",
    "\n",
    "class PriceForecast(nn.Module):\n",
    "\n",
    "    def __init__(self, device: torch.device):\n",
    "        super(PriceForecast, self).__init__()\n",
    "        self.lstm1 = nn.LSTM(input_size=7, hidden_size=32, num_layers=2, batch_first=True, device=device)\n",
    "        self.linear1 = nn.Linear(32, 7, device=device)\n",
    "\n",
    "    def forward(self, x):\n",
    "        x, _ = self.lstm1(x)\n",
    "        return self.linear1(x[:,-1,:])\n",
    "    "
   ]
  },
  {
   "cell_type": "code",
   "execution_count": 34,
   "metadata": {},
   "outputs": [
    {
     "name": "stdout",
     "output_type": "stream",
     "text": [
      "epoch: 0 duration: 220.27 loss: 0.68616 val_loss: 0.63179 \n"
     ]
    }
   ],
   "source": [
    "from crypto_price_analysis.train import train_model\n",
    "\n",
    "model = PriceForecast(device)\n",
    "optimizer = torch.optim.Adam(model.parameters(), lr=5e-4)\n",
    "loss = nn.MSELoss()\n",
    "\n",
    "history = train_model(model, train_loader, val_loader, optimizer, loss, 1)"
   ]
  }
 ],
 "metadata": {
  "kernelspec": {
   "display_name": "Python 3",
   "language": "python",
   "name": "python3"
  },
  "language_info": {
   "codemirror_mode": {
    "name": "ipython",
    "version": 3
   },
   "file_extension": ".py",
   "mimetype": "text/x-python",
   "name": "python",
   "nbconvert_exporter": "python",
   "pygments_lexer": "ipython3",
   "version": "3.12.4"
  }
 },
 "nbformat": 4,
 "nbformat_minor": 2
}
